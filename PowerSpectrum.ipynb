{
 "cells": [
  {
   "cell_type": "code",
   "execution_count": null,
   "metadata": {},
   "outputs": [],
   "source": [
    "import h5py\n",
    "%pylab\n",
    "from meshoid import Meshoid\n",
    "from scipy.fft import ifftn, fftn, fftfreq\n"
   ]
  },
  {
   "cell_type": "code",
   "execution_count": 8,
   "metadata": {},
   "outputs": [],
   "source": [
    "F = h5py.File(\"snapshot_025.hdf5\",'r')\n",
    "x = np.array(F[\"PartType0/Coordinates\"])\n",
    "v = np.array(F[\"PartType0/Velocities\"])\n",
    "\n",
    "M = Meshoid(x,boxsize=F[\"Header\"].attrs[\"BoxSize\"],n_jobs=-1)"
   ]
  },
  {
   "cell_type": "code",
   "execution_count": 34,
   "metadata": {},
   "outputs": [],
   "source": [
    "res = 64\n",
    "vgrid = np.array([M.DepositToGrid(v[:,i],res=res) for i in range(3)])\n",
    "\n",
    "vk = np.array([fftn(V) for V in vgrid])\n",
    "vkSqr = np.sum(np.abs(vk*vk),axis=0)\n",
    "\n",
    "freqs = fftfreq(res)\n",
    "freq3d = np.array(np.meshgrid(freqs,freqs,freqs))#,indexing='ij'))\n",
    "intfreq = np.around(freq3d*res)\n",
    "kSqr = np.sum(np.abs(freq3d)**2,axis=0)\n",
    "intkSqr = np.sum(np.abs(intfreq)**2, axis=0)\n",
    "intk = intkSqr**0.5\n",
    "\n",
    "kbins = np.sort(np.unique(intk))[:1000]*0.99\n",
    "#kbins = kbins + np.eps\n",
    "#kbins = np.insert(kbins,0,0)\n",
    "#kbins[1:] *= (1+1e-15)\n",
    "#kbins[-1] = np.inf\n",
    "from scipy.stats import binned_statistic\n",
    "\n",
    "\n",
    "#plt.plot(kbins[1:] ,kbins[1:]**4 * binned_statistic(intk.flatten(), vkSqr.flatten(), bins=kbins,statistic='sum')[0],markersize=0.1); plt.yscale('log'); plt.xscale('log')\n",
    "\n",
    "#vavg = M.ProjectedAverage(v[:,2])"
   ]
  },
  {
   "cell_type": "code",
   "execution_count": 35,
   "metadata": {},
   "outputs": [],
   "source": [
    "plt.scatter(np.unique(intk)[:1000],np.unique(intk)[:1000]**2 * [vkSqr[np.isclose(intk,u)].sum() for u in np.unique(intk)[:1000]],s=0.1)\n",
    "plt.xscale('log')\n",
    "plt.yscale('log')"
   ]
  },
  {
   "cell_type": "code",
   "execution_count": 5,
   "metadata": {},
   "outputs": [
    {
     "ename": "AttributeError",
     "evalue": "type object 'numpy.float64' has no attribute 'small'",
     "output_type": "error",
     "traceback": [
      "\u001b[0;31m---------------------------------------------------------------------------\u001b[0m",
      "\u001b[0;31mAttributeError\u001b[0m                            Traceback (most recent call last)",
      "\u001b[0;32m<ipython-input-5-dc888524957e>\u001b[0m in \u001b[0;36m<module>\u001b[0;34m\u001b[0m\n\u001b[0;32m----> 1\u001b[0;31m \u001b[0mnp\u001b[0m\u001b[0;34m.\u001b[0m\u001b[0mfloat64\u001b[0m\u001b[0;34m.\u001b[0m\u001b[0msmall\u001b[0m\u001b[0;34m\u001b[0m\u001b[0;34m\u001b[0m\u001b[0m\n\u001b[0m",
      "\u001b[0;31mAttributeError\u001b[0m: type object 'numpy.float64' has no attribute 'small'"
     ]
    }
   ],
   "source": [
    "np.float64.small"
   ]
  },
  {
   "cell_type": "code",
   "execution_count": null,
   "metadata": {},
   "outputs": [],
   "source": []
  }
 ],
 "metadata": {
  "kernelspec": {
   "display_name": "Python 3",
   "language": "python",
   "name": "python3"
  },
  "language_info": {
   "codemirror_mode": {
    "name": "ipython",
    "version": 3
   },
   "file_extension": ".py",
   "mimetype": "text/x-python",
   "name": "python",
   "nbconvert_exporter": "python",
   "pygments_lexer": "ipython3",
   "version": "3.8.5"
  }
 },
 "nbformat": 4,
 "nbformat_minor": 4
}
